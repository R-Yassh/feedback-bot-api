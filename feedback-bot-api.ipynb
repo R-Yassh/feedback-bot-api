{
 "cells": [
  {
   "cell_type": "code",
   "execution_count": null,
   "id": "3cc51bc4",
   "metadata": {},
   "outputs": [],
   "source": [
    "import os\n",
    "\n",
    "import time\n",
    "import json\n",
    "import random\n",
    "\n",
    "import numpy as np\n",
    "import tensorflow as tf\n",
    "import tensorflow_text as text\n",
    "\n",
    "from ipywidgets import Button, HBox, VBox, RadioButtons\n",
    "import ipywidgets as widgets\n",
    "from IPython.display import display, clear_output"
   ]
  },
  {
   "cell_type": "code",
   "execution_count": null,
   "id": "aa397d10",
   "metadata": {},
   "outputs": [],
   "source": [
    "os.path.abspath('./')"
   ]
  },
  {
   "cell_type": "code",
   "execution_count": null,
   "id": "c09b11d6",
   "metadata": {},
   "outputs": [],
   "source": [
    "saved_model_path = ''.join(os.path.abspath('./')+'/swiggy_review_bert/content/swiggy_review_bert')"
   ]
  },
  {
   "cell_type": "code",
   "execution_count": null,
   "id": "51e0137e",
   "metadata": {},
   "outputs": [],
   "source": [
    "print(tf.__version__)"
   ]
  },
  {
   "cell_type": "code",
   "execution_count": null,
   "id": "4209e054",
   "metadata": {},
   "outputs": [],
   "source": [
    "reloaded_model = tf.saved_model.load(saved_model_path)"
   ]
  },
  {
   "cell_type": "code",
   "execution_count": null,
   "id": "f670e356",
   "metadata": {},
   "outputs": [],
   "source": [
    "sentiment = [\n",
    "        ['Very Negative', 'Negative', 'Neutral', 'Positive', 'Very Positive'],\n",
    "        ['Moderatly Negative', 'Neutral Negative', 'Neutral Positive', 'Moderatly Positive']\n",
    "    ]"
   ]
  },
  {
   "cell_type": "code",
   "execution_count": null,
   "id": "a8cb49e5",
   "metadata": {},
   "outputs": [],
   "source": [
    "def get_sentiment(pred_class):\n",
    "    if(len(pred_class)==1): return sentiment[0][pred_class[0]]\n",
    "    if(len(pred_class)==2): return sentiment[1][sum(pred_class)//2]\n",
    "    \n",
    "    return 'Mixed'\n",
    "\n",
    "def get_response(pred, threshold=0.7):\n",
    "    p_idx_sort = np.argsort(pred)\n",
    "    \n",
    "    for i in range(1,6):\n",
    "        pred_prob = sum(pred[p_idx_sort[-i:]])\n",
    "\n",
    "        if(pred_prob>=threshold):\n",
    "            response = p_idx_sort[-i:]\n",
    "            return response[::-1], pred_prob\n",
    "\n",
    "\n",
    "def bot_api(query):    \n",
    "    response = []\n",
    "    \n",
    "    result = tf.nn.softmax(reloaded_model(tf.constant([query])))\n",
    "    pred = result.numpy()[0]\n",
    "    threshold = 0.75\n",
    "    \n",
    "    pred_class, pred_prob = get_response(pred, threshold=threshold)\n",
    "    sent = get_sentiment(pred_class)\n",
    "    score = round(pred_prob*100,2)\n",
    "    \n",
    "    return [sent, score]"
   ]
  },
  {
   "cell_type": "code",
   "execution_count": null,
   "id": "76ecaeb0",
   "metadata": {},
   "outputs": [],
   "source": [
    "query = 'Very poor service! Ordered items half an hour ago, a message came that item was unavailable. Then requested change in order item. One hour later, got message that new item is also unavailable. I was actually ordering food from the menu shown in swigy app only; very irresponsible service!! Really frustrating, pathetic response.'"
   ]
  },
  {
   "cell_type": "code",
   "execution_count": null,
   "id": "6e4b71d9",
   "metadata": {},
   "outputs": [],
   "source": [
    "bot_api(query)"
   ]
  },
  {
   "cell_type": "code",
   "execution_count": null,
   "id": "df5e5b91",
   "metadata": {},
   "outputs": [],
   "source": []
  },
  {
   "cell_type": "markdown",
   "id": "ec5b0583",
   "metadata": {},
   "source": [
    "### Interface"
   ]
  },
  {
   "cell_type": "code",
   "execution_count": null,
   "id": "09298956",
   "metadata": {},
   "outputs": [],
   "source": [
    "class BotButtons:\n",
    "    \n",
    "    def __init__(self):\n",
    "        self.startBtn = Button(description='🚀 Start', button_style='success')        \n",
    "        self.rateUsBtn = Button(description='⭐Rate us')\n",
    "        self.feedbackBtn = Button(description='🤝Submit feedback')\n",
    "        self.talkAgentBtn = Button(description='👩‍💼Talk to human agent')\n",
    "\n",
    "        self.mainMenuBox = HBox([self.rateUsBtn, self.feedbackBtn, self.talkAgentBtn])\n",
    "        \n",
    "        self.ratingsBtn = RadioButtons(\n",
    "            options=['⭐', '⭐⭐', '⭐⭐⭐','⭐⭐⭐⭐','⭐⭐⭐⭐⭐'],\n",
    "            description='Rate us:',\n",
    "            disabled=False\n",
    "        )\n",
    "        \n",
    "        self.menuBtn = Button(description='👈Go to main menu', button_style='info')\n",
    "        self.submitRatingBtn = Button(description='Submit',button_style='info')\n",
    "        \n",
    "        self.exitBtn = Button(description='Exit bot', button_style='danger')\n",
    "        \n",
    "        self.menuExitBox = HBox([self.menuBtn, self.exitBtn])\n",
    "        \n",
    "        self.userInputField = widgets.Textarea(\n",
    "                                value='',\n",
    "                                placeholder='Type something',\n",
    "                                description='You: ',\n",
    "                                disabled=False\n",
    "                            )\n",
    "        display(self.userInputField)\n",
    "        self.userInputField.layout.display='none'\n",
    "        \n",
    "        self.submitFeedbackBtn = Button(description='Submit',button_style='info')\n",
    "        \n",
    "        self.yesBtn = Button(description='👍Yes', button_style='success')\n",
    "        self.noBtn = Button(description='👎No', button_style='warning')\n",
    "        \n",
    "        self.yesNoBox = HBox([self.yesBtn, self.noBtn, self.exitBtn])\n",
    "        \n",
    "        self.out = widgets.Output()\n"
   ]
  },
  {
   "cell_type": "code",
   "execution_count": null,
   "id": "dd21689a",
   "metadata": {},
   "outputs": [],
   "source": [
    "def goto_main_menu(obj):\n",
    "    print('How may I help you today?')\n",
    "    \n",
    "    # botObj.rateUsBtn\n",
    "    # botObj.feedbackBtn\n",
    "    # botObj.talkAgentBtn\n",
    "    \n",
    "    display(botObj.mainMenuBox)\n",
    "\n",
    "def rate_us_eventhandler(obj):\n",
    "    botObj.mainMenuBox.layout.display = 'none'\n",
    "    \n",
    "    display(botObj.ratingsBtn)\n",
    "    submit = botObj.submitRatingBtn\n",
    "    submit.layout.display = 'visible'\n",
    "    display(submit)\n",
    "\n",
    "def talk_to_agent_eventhandler(obj):\n",
    "    botObj.mainMenuBox.layout.display = 'none'\n",
    "    print('agent_info')\n",
    "\n",
    "def submit_rating_eventhandler(obj):\n",
    "    botObj.ratingsBtn.layout.display = 'none'\n",
    "    obj.layout.display = 'none'\n",
    "    \n",
    "    print('You\\'ve rated us: ', botObj.ratingsBtn.index+1, '⭐')\n",
    "    print('Would you like to tell us more about it?')\n",
    "\n",
    "    display(botObj.yesNoBox)\n",
    "\n",
    "\n",
    "def feedback_eventhandler(obj):\n",
    "    botObj.mainMenuBox.layout.display = 'none'\n",
    "    botObj.yesNoBox.layout.display = 'none'\n",
    "\n",
    "    botObj.userInputField.layout.display = 'visible'\n",
    "    display(botObj.userInputField)\n",
    "    \n",
    "    submit = botObj.submitFeedbackBtn\n",
    "    submit.layout.display='visible'\n",
    "    display(submit)\n",
    "\n",
    "def proceed_eventhandler(obj):\n",
    "    botObj.yesNoBox.layout.display = 'none'\n",
    "    print('Thank you bringing that to our notice! We will surely try to improve on it.')\n",
    "\n",
    "def submit_feedback_event(obj):\n",
    "    print(\"User: \", botObj.userInputField.value)\n",
    "    print(bot_api(botObj.userInputField.value))\n",
    "    botObj.userInputField.value = ''\n",
    "    \n",
    "    botObj.userInputField.layout.display = 'none'\n",
    "    obj.layout.display = 'none'\n",
    "\n",
    "    # print('Continue?')\n",
    "\n",
    "    botObj.yesNoBox.layout.display = 'visible'\n",
    "    display(botObj.yesNoBox)\n",
    "\n",
    "def exit_eventhandler(obj):\n",
    "    widgets.Widget.close_all()\n",
    "    print('Thank you for using feedback bot! Have a nice day :)')\n",
    "\n",
    "def start_eventhandler(obj):\n",
    "    obj.close()\n",
    "    botObj.submitRatingBtn.on_click(submit_rating_eventhandler)\n",
    "    botObj.rateUsBtn.on_click(rate_us_eventhandler)\n",
    "    botObj.feedbackBtn.on_click(feedback_eventhandler)\n",
    "    botObj.talkAgentBtn.on_click(talk_to_agent_eventhandler)\n",
    "    botObj.yesBtn.on_click(feedback_eventhandler)\n",
    "    botObj.noBtn.on_click(proceed_eventhandler)\n",
    "    botObj.exitBtn.on_click(exit_eventhandler)\n",
    "    botObj.submitFeedbackBtn.on_click(submit_feedback_event)\n",
    "    \n",
    "    goto_main_menu(obj)"
   ]
  },
  {
   "cell_type": "code",
   "execution_count": null,
   "id": "01262e5e",
   "metadata": {},
   "outputs": [],
   "source": [
    "def runBot():    \n",
    "    print('👋 Hello, welcome to the feedback bot!')\n",
    "    start = botObj.startBtn\n",
    "    display(start, botObj.out)\n",
    "    start.on_click(start_eventhandler)    "
   ]
  },
  {
   "cell_type": "code",
   "execution_count": null,
   "id": "02e08a46",
   "metadata": {},
   "outputs": [],
   "source": [
    "botObj = BotButtons()\n",
    "runBot()"
   ]
  },
  {
   "cell_type": "markdown",
   "id": "c47985ef",
   "metadata": {},
   "source": [
    "#### Debugging"
   ]
  },
  {
   "cell_type": "code",
   "execution_count": null,
   "id": "7173a141",
   "metadata": {},
   "outputs": [],
   "source": [
    "a = np.array([10, 100, 22, 38, 49, 202])\n",
    "\n",
    "print(np.argsort(a))\n",
    "print(sum(a[np.argsort(a)[-1:]]))\n",
    "np.argsort(a)[-2:]+1"
   ]
  },
  {
   "cell_type": "code",
   "execution_count": null,
   "id": "ef32ccd3",
   "metadata": {},
   "outputs": [],
   "source": [
    "\n",
    "response = []\n",
    "result = tf.nn.softmax(reloaded_model(tf.constant(query)))\n",
    "pred = result.numpy()[0]\n",
    "threshold = 0.75\n",
    "p_idx_sort = np.argsort(pred)\n",
    "\n",
    "for i in range(1,6):\n",
    "    pred_prob = sum(pred[p_idx_sort[-i:]])\n",
    "\n",
    "    if(pred_prob>=threshold):\n",
    "        response = p_idx_sort[-i:]\n",
    "        print(pred[response[::-1]])\n",
    "        break"
   ]
  },
  {
   "cell_type": "code",
   "execution_count": null,
   "id": "fd3a344a",
   "metadata": {},
   "outputs": [],
   "source": [
    "pred[response[::-1]]"
   ]
  },
  {
   "cell_type": "code",
   "execution_count": null,
   "id": "d6967b26",
   "metadata": {},
   "outputs": [],
   "source": [
    "response"
   ]
  },
  {
   "cell_type": "code",
   "execution_count": null,
   "id": "5cd1f29f",
   "metadata": {},
   "outputs": [],
   "source": [
    "results = tf.nn.softmax(reloaded_model(tf.constant(queries)))"
   ]
  },
  {
   "cell_type": "code",
   "execution_count": null,
   "id": "220127cc",
   "metadata": {},
   "outputs": [],
   "source": [
    "def print_results(inputs, results):\n",
    "  result_for_printing = \\\n",
    "    [f'input: {inputs[i]:<30} : score: {results[i][0]:.6f}'\n",
    "                         for i in range(len(inputs))]\n",
    "  print(*result_for_printing, sep='\\n')\n",
    "  print()\n",
    "\n",
    "print_results(queries, results)"
   ]
  }
 ],
 "metadata": {
  "kernelspec": {
   "display_name": "Python 3",
   "language": "python",
   "name": "python3"
  },
  "language_info": {
   "codemirror_mode": {
    "name": "ipython",
    "version": 3
   },
   "file_extension": ".py",
   "mimetype": "text/x-python",
   "name": "python",
   "nbconvert_exporter": "python",
   "pygments_lexer": "ipython3",
   "version": "3.8.10"
  }
 },
 "nbformat": 4,
 "nbformat_minor": 5
}
